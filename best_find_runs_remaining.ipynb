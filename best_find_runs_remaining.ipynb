{
 "cells": [
  {
   "cell_type": "code",
   "execution_count": 31,
   "id": "3ba70f6f-4d2b-4010-814c-85dc538c040d",
   "metadata": {},
   "outputs": [],
   "source": [
    "from pathlib import Path\n",
    "import pandas as pd\n",
    "import numpy as np\n",
    "import xarray as xr\n",
    "import shutil"
   ]
  },
  {
   "cell_type": "code",
   "execution_count": 32,
   "id": "779cf0f6-5a0b-433e-b8ce-1c9b02383be1",
   "metadata": {},
   "outputs": [],
   "source": [
    "forcing_path = Path.cwd() /\"Forcing\"\n",
    "forcing = [int(path.name[0:8]) for path in\n",
    "               forcing_path.glob(\"*_lump_cida_forcing_leap.txt\")]\n",
    "# forcing = [path.name[0:8] for path in\n",
    "#                forcing_path.glob(\"*_lump_cida_forcing_leap.txt\")]\n"
   ]
  },
  {
   "cell_type": "code",
   "execution_count": 33,
   "id": "7f0a94c3-d17d-4781-aef8-6691d7b6d0af",
   "metadata": {},
   "outputs": [
    {
     "data": {
      "text/plain": [
       "649"
      ]
     },
     "execution_count": 33,
     "metadata": {},
     "output_type": "execute_result"
    }
   ],
   "source": [
    "len(forcing)"
   ]
  },
  {
   "cell_type": "markdown",
   "id": "05b3f3fc-2293-4267-8fe2-a75fc685ede3",
   "metadata": {},
   "source": [
    "on surf:"
   ]
  },
  {
   "cell_type": "code",
   "execution_count": 34,
   "id": "91b6eb25-551e-4a04-a321-1419dda37975",
   "metadata": {},
   "outputs": [],
   "source": [
    "observation_path = Path.cwd() /\"Observations\"\n",
    "observations = [int(path.name[0:8]) for path in\n",
    "               observation_path.glob(\"*_streamflow_qc.txt\")]\n",
    "# observations = [path.name[0:8] for path in\n",
    "#                observation_path.glob(\"*_streamflow_qc.txt\")]"
   ]
  },
  {
   "cell_type": "code",
   "execution_count": 35,
   "id": "e577556e-f885-4114-8146-b14ac93f5d71",
   "metadata": {},
   "outputs": [
    {
     "data": {
      "text/plain": [
       "{2081113, 3448942}"
      ]
     },
     "execution_count": 35,
     "metadata": {},
     "output_type": "execute_result"
    }
   ],
   "source": [
    "set(forcing).difference(set(observations))"
   ]
  },
  {
   "cell_type": "code",
   "execution_count": 36,
   "id": "5020b420-6f07-4f85-b7a4-596603ae751b",
   "metadata": {},
   "outputs": [],
   "source": [
    "output_path = Path.cwd() /\"Output\"\n",
    "output = [int(path.name[0:8]) for path in\n",
    "               output_path.glob(\"*.nc\")]\n",
    "ouput = sorted(output)"
   ]
  },
  {
   "cell_type": "code",
   "execution_count": 38,
   "id": "ee4f3c10-512f-4264-8be8-520c4389d8c7",
   "metadata": {},
   "outputs": [],
   "source": [
    "output_tuple = [(int(path.name[0:8]),path) for path in\n",
    "               output_path.glob(\"*.nc\")]"
   ]
  },
  {
   "cell_type": "code",
   "execution_count": 39,
   "id": "43e0be84-f192-4276-b2fe-d6401dc1bd21",
   "metadata": {
    "scrolled": true
   },
   "outputs": [],
   "source": [
    "prev = \"0\"\n",
    "# for uid in output:\n",
    "#     if int(uid) == int(prev):\n",
    "#         print(uid)\n",
    "#     prev = uid\n",
    "\n",
    "seen = set()\n",
    "uniq = []\n",
    "repeats = []\n",
    "repeats_path = []\n",
    "for uid, path in output_tuple:\n",
    "    if uid not in seen:\n",
    "        uniq.append(uid)\n",
    "        seen.add(uid)\n",
    "    else:\n",
    "        repeats.append(uid)\n",
    "        repeats_path.append(path)"
   ]
  },
  {
   "cell_type": "code",
   "execution_count": 40,
   "id": "07981d9b-1c8b-40df-ade7-58426bedc192",
   "metadata": {},
   "outputs": [
    {
     "data": {
      "text/plain": [
       "135"
      ]
     },
     "execution_count": 40,
     "metadata": {},
     "output_type": "execute_result"
    }
   ],
   "source": [
    "len(repeats)"
   ]
  },
  {
   "cell_type": "code",
   "execution_count": 41,
   "id": "878fb9fe-c278-4087-a47f-9eadca4fd11f",
   "metadata": {},
   "outputs": [
    {
     "ename": "NameError",
     "evalue": "name 'shutil' is not defined",
     "output_type": "error",
     "traceback": [
      "\u001b[0;31m---------------------------------------------------------------------------\u001b[0m",
      "\u001b[0;31mNameError\u001b[0m                                 Traceback (most recent call last)",
      "Cell \u001b[0;32mIn[41], line 2\u001b[0m\n\u001b[1;32m      1\u001b[0m \u001b[38;5;28;01mfor\u001b[39;00m file \u001b[38;5;129;01min\u001b[39;00m repeats_path:\n\u001b[0;32m----> 2\u001b[0m     \u001b[43mshutil\u001b[49m\u001b[38;5;241m.\u001b[39mcopyfile(file, file\u001b[38;5;241m.\u001b[39mparent\u001b[38;5;241m/\u001b[39m\u001b[38;5;124m\"\u001b[39m\u001b[38;5;124mduplicates\u001b[39m\u001b[38;5;124m\"\u001b[39m\u001b[38;5;241m/\u001b[39mfile\u001b[38;5;241m.\u001b[39mname)\n",
      "\u001b[0;31mNameError\u001b[0m: name 'shutil' is not defined"
     ]
    }
   ],
   "source": [
    "for file in repeats_path:\n",
    "    shutil.copyfile(file, file.parent/\"duplicates\"/file.name)"
   ]
  },
  {
   "cell_type": "code",
   "execution_count": null,
   "id": "c3ea3353-a938-4543-8893-93d215848948",
   "metadata": {},
   "outputs": [],
   "source": [
    "# for file in repeats_path:\n",
    "#     file.unlink()"
   ]
  },
  {
   "cell_type": "code",
   "execution_count": 9,
   "id": "91a15d25-af0c-434d-99a5-cc0098afc5e6",
   "metadata": {},
   "outputs": [
    {
     "data": {
      "text/plain": [
       "135"
      ]
     },
     "execution_count": 9,
     "metadata": {},
     "output_type": "execute_result"
    }
   ],
   "source": [
    "len(repeat)"
   ]
  },
  {
   "cell_type": "code",
   "execution_count": 10,
   "id": "635f0aea-58d1-4210-ace8-76f7ce270799",
   "metadata": {},
   "outputs": [
    {
     "data": {
      "text/plain": [
       "649"
      ]
     },
     "execution_count": 10,
     "metadata": {},
     "output_type": "execute_result"
    }
   ],
   "source": [
    "len(forcing) "
   ]
  },
  {
   "cell_type": "code",
   "execution_count": 11,
   "id": "50f0c62d-89d6-4e3c-a887-d8ef010ec499",
   "metadata": {},
   "outputs": [
    {
     "data": {
      "text/plain": [
       "783"
      ]
     },
     "execution_count": 11,
     "metadata": {},
     "output_type": "execute_result"
    }
   ],
   "source": [
    "len(output)"
   ]
  },
  {
   "cell_type": "code",
   "execution_count": 12,
   "id": "6561ce06-1d1a-420b-a666-b52ffa622039",
   "metadata": {},
   "outputs": [
    {
     "data": {
      "text/plain": [
       "648"
      ]
     },
     "execution_count": 12,
     "metadata": {},
     "output_type": "execute_result"
    }
   ],
   "source": [
    "len(set(output))"
   ]
  },
  {
   "cell_type": "code",
   "execution_count": 13,
   "id": "b29450a0-e745-4b95-a50b-7e45ac20602c",
   "metadata": {},
   "outputs": [
    {
     "data": {
      "text/plain": [
       "27"
      ]
     },
     "execution_count": 13,
     "metadata": {},
     "output_type": "execute_result"
    }
   ],
   "source": [
    "len(forcing) +26 - len(set(output))"
   ]
  },
  {
   "cell_type": "code",
   "execution_count": 25,
   "id": "aba42526-6ae4-4190-9a12-5628a99fefaa",
   "metadata": {},
   "outputs": [],
   "source": [
    "known_missing = {2081113, 3448942, 9535100, 3281100,8178880}"
   ]
  },
  {
   "cell_type": "markdown",
   "id": "2440cdf8-53c5-41bd-a98a-434c3e9da0d2",
   "metadata": {},
   "source": [
    "missing streamflow file : 2081113, 3448942\n",
    "\n",
    "9535100 - only 1981"
   ]
  },
  {
   "cell_type": "markdown",
   "id": "e7fd156d-088c-4e60-808a-2c8aae697753",
   "metadata": {},
   "source": [
    "3281100 missing data"
   ]
  },
  {
   "cell_type": "code",
   "execution_count": 26,
   "id": "cfd0776b-462d-4bc2-8c44-68f2f5e03c7f",
   "metadata": {},
   "outputs": [
    {
     "data": {
      "text/plain": [
       "22"
      ]
     },
     "execution_count": 26,
     "metadata": {},
     "output_type": "execute_result"
    }
   ],
   "source": [
    "to_do = list(set(forcing).difference(output).difference(known_missing))\n",
    "len(to_do)"
   ]
  },
  {
   "cell_type": "code",
   "execution_count": 27,
   "id": "d322d0d7-eeb4-480d-92f6-48f81c40f133",
   "metadata": {},
   "outputs": [
    {
     "data": {
      "text/plain": [
       "22"
      ]
     },
     "execution_count": 27,
     "metadata": {},
     "output_type": "execute_result"
    }
   ],
   "source": [
    "len(sorted(to_do))"
   ]
  },
  {
   "cell_type": "code",
   "execution_count": 29,
   "id": "42aded32-832b-4923-b835-17793d4d2325",
   "metadata": {},
   "outputs": [
    {
     "data": {
      "text/plain": [
       "[6224000,\n",
       " 4115265,\n",
       " 1365000,\n",
       " 4221000,\n",
       " 7197000,\n",
       " 6468170,\n",
       " 7167500,\n",
       " 7071500,\n",
       " 7149000,\n",
       " 5458000,\n",
       " 7195800]"
      ]
     },
     "execution_count": 29,
     "metadata": {},
     "output_type": "execute_result"
    }
   ],
   "source": [
    "to_do[:11]"
   ]
  },
  {
   "cell_type": "code",
   "execution_count": 30,
   "id": "15c57713-d937-40f2-aaea-ef4c900cf5d4",
   "metadata": {},
   "outputs": [
    {
     "data": {
      "text/plain": [
       "[7083000,\n",
       " 7068000,\n",
       " 4015330,\n",
       " 1411300,\n",
       " 7145700,\n",
       " 7196900,\n",
       " 6903400,\n",
       " 7208500,\n",
       " 5584500,\n",
       " 6803510,\n",
       " 7067000]"
      ]
     },
     "execution_count": 30,
     "metadata": {},
     "output_type": "execute_result"
    }
   ],
   "source": [
    "to_do[11:]"
   ]
  },
  {
   "cell_type": "code",
   "execution_count": null,
   "id": "92d4b7f4-b085-469c-b5b3-152a5641f007",
   "metadata": {},
   "outputs": [],
   "source": []
  }
 ],
 "metadata": {
  "kernelspec": {
   "display_name": "Python 3 (ipykernel)",
   "language": "python",
   "name": "python3"
  },
  "language_info": {
   "codemirror_mode": {
    "name": "ipython",
    "version": 3
   },
   "file_extension": ".py",
   "mimetype": "text/x-python",
   "name": "python",
   "nbconvert_exporter": "python",
   "pygments_lexer": "ipython3",
   "version": "3.10.14"
  }
 },
 "nbformat": 4,
 "nbformat_minor": 5
}
